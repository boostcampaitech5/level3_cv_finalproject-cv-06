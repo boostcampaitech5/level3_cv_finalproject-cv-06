{
 "cells": [
  {
   "cell_type": "code",
   "execution_count": null,
   "metadata": {},
   "outputs": [],
   "source": [
    "import insightface\n",
    "\n",
    "model = insightface.app.FaceAnalysis()\n",
    "model.prepare(ctx_id=0)"
   ]
  },
  {
   "cell_type": "code",
   "execution_count": null,
   "metadata": {},
   "outputs": [],
   "source": [
    "import os\n",
    "from PIL import Image\n",
    "import numpy as np\n",
    "from tqdm import tqdm\n",
    "\n",
    "path = \"../data/\"\n",
    "files = os.listdir(path)\n",
    "\n",
    "vectors = np.empty((len(files), 512))\n",
    "for i, file in tqdm(enumerate(files)):\n",
    "    img_dir = path + file\n",
    "    img = np.array(Image.open(img_dir))\n",
    "\n",
    "    vector = model.get(img)[0]['embedding']\n",
    "    vectors[i] = vector"
   ]
  },
  {
   "cell_type": "code",
   "execution_count": null,
   "metadata": {},
   "outputs": [],
   "source": [
    "np.savez('embedding_vectors.npz', data=vectors)"
   ]
  }
 ],
 "metadata": {
  "kernelspec": {
   "display_name": "workspace",
   "language": "python",
   "name": "python3"
  },
  "language_info": {
   "codemirror_mode": {
    "name": "ipython",
    "version": 3
   },
   "file_extension": ".py",
   "mimetype": "text/x-python",
   "name": "python",
   "nbconvert_exporter": "python",
   "pygments_lexer": "ipython3",
   "version": "3.10.10"
  },
  "orig_nbformat": 4
 },
 "nbformat": 4,
 "nbformat_minor": 2
}
